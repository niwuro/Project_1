{
 "cells": [
  {
   "cell_type": "code",
   "execution_count": 1,
   "metadata": {
    "collapsed": true
   },
   "outputs": [],
   "source": [
    "import requests\n",
    "import http.client\n",
    "import json, codecs\n",
    "import numpy as np\n",
    "import re \n",
    "import datetime\n",
    "import pandas as pd\n",
    "import urllib\n",
    "import time\n",
    "import pickle\n",
    "from concurrent.futures import ThreadPoolExecutor"
   ]
  },
  {
   "cell_type": "code",
   "execution_count": 2,
   "metadata": {
    "collapsed": true
   },
   "outputs": [],
   "source": [
    "def get_vacancy_data(vac_id):\n",
    "    url = \"http://api.hh.ru/vacancies/{}\".format(vac_id)\n",
    "    headers = {\"User-Agent\": \"hh-recommender\"}\n",
    "    sess = requests.session()\n",
    "    r = sess.post(url, headers=headers)\n",
    "    json_data = json.loads(r.text)\n",
    "    time.sleep(0.05)\n",
    "    return json_data"
   ]
  },
  {
   "cell_type": "code",
   "execution_count": 3,
   "metadata": {
    "collapsed": true
   },
   "outputs": [],
   "source": [
    "def cleaning_data(data, useless_key):\n",
    "    if data['description'] == 'Not Found':\n",
    "        return None\n",
    "    else:\n",
    "        for key in useless_key:\n",
    "            try:\n",
    "                del data[key]\n",
    "            except KeyError:\n",
    "                pass\n",
    "        return data"
   ]
  },
  {
   "cell_type": "code",
   "execution_count": 4,
   "metadata": {
    "collapsed": true
   },
   "outputs": [],
   "source": [
    "def save_data(data, id_range):\n",
    "    with open(('hh_parsing_{}.json'.format(id_range[-1])), 'ab') as f:\n",
    "        json.dump(data, codecs.getwriter('utf-8')(f), ensure_ascii=False)\n",
    "        f.close()"
   ]
  },
  {
   "cell_type": "code",
   "execution_count": 23,
   "metadata": {},
   "outputs": [],
   "source": [
    "def hh_pars(id_number, id_range, useless_key):    \n",
    "    try:\n",
    "        data = get_vacancy_data(id_number)\n",
    "    except Exception:\n",
    "        data = {'description': \"Not Found\"}\n",
    "        with open('/home/andrew/HH_Project/Error_Vac.pickle', 'ab') as file:\n",
    "            pickle.dump(id_number, file, protocol=pickle.HIGHEST_PROTOCOL)\n",
    "            file.close()\n",
    "            time.sleep(0.5)\n",
    "            pass\n",
    "    clean_data = cleaning_data(data, useless_key)   \n",
    "    save_data(clean_data, id_range)"
   ]
  },
  {
   "cell_type": "code",
   "execution_count": 26,
   "metadata": {
    "collapsed": true
   },
   "outputs": [],
   "source": [
    "useless_key = ['allow_messages', 'branded_description', 'apply_alternate_url', 'code', 'department', \n",
    "               'response_letter_required', 'test', 'premium', 'negotiations_url', 'quick_responses_allowed', \n",
    "               'relations', 'suitable_resumes_url']\n",
    "vac_id = range(500000, 1000000)"
   ]
  },
  {
   "cell_type": "code",
   "execution_count": null,
   "metadata": {},
   "outputs": [],
   "source": [
    "for i in vac_id:\n",
    "    hh_pars(i, vac_id, useless_key)"
   ]
  },
  {
   "cell_type": "code",
   "execution_count": 10,
   "metadata": {
    "collapsed": true
   },
   "outputs": [],
   "source": []
  },
  {
   "cell_type": "code",
   "execution_count": 11,
   "metadata": {
    "collapsed": true
   },
   "outputs": [],
   "source": []
  },
  {
   "cell_type": "code",
   "execution_count": null,
   "metadata": {
    "collapsed": true
   },
   "outputs": [],
   "source": []
  }
 ],
 "metadata": {
  "kernelspec": {
   "display_name": "Python 3",
   "language": "python",
   "name": "python3"
  },
  "language_info": {
   "codemirror_mode": {
    "name": "ipython",
    "version": 3
   },
   "file_extension": ".py",
   "mimetype": "text/x-python",
   "name": "python",
   "nbconvert_exporter": "python",
   "pygments_lexer": "ipython3",
   "version": "3.5.3"
  }
 },
 "nbformat": 4,
 "nbformat_minor": 2
}
